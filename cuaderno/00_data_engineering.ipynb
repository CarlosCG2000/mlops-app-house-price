{
 "cells": [
  {
   "cell_type": "code",
   "execution_count": 3,
   "id": "736994df",
   "metadata": {},
   "outputs": [
    {
     "name": "stdout",
     "output_type": "stream",
     "text": [
      "✅ Librerías importadas.\n"
     ]
    }
   ],
   "source": [
    "# -------------------------------------------------------------\n",
    "# Paso 1: Importar las librerías necesarias\n",
    "# -------------------------------------------------------------\n",
    "import pandas as pd\n",
    "import matplotlib.pyplot as plt\n",
    "import seaborn as sns\n",
    "\n",
    "sns.set_theme(style=\"whitegrid\") # Establece el tema de Seaborn\n",
    "print(\"✅ Librerías importadas.\")\n"
   ]
  },
  {
   "cell_type": "code",
   "execution_count": null,
   "id": "62836f25",
   "metadata": {},
   "outputs": [
    {
     "name": "stdout",
     "output_type": "stream",
     "text": [
      "📥 Cargando el conjunto de datos...\n",
      "✅ Conjunto de datos cargado con éxito!\n",
      "Forma inicial de los datos: (84, 7)\n",
      "\n",
      "🔍 Vista previa de los datos:\n",
      "     price  sqft  bedrooms  bathrooms    location  year_built  condition\n",
      "0   495000  1527         2        1.5      Suburb        1956       Good\n",
      "1   752000  2526         3        2.5    Downtown        1998  Excellent\n",
      "2   319000  1622         2        1.5       Rural        1975       Fair\n",
      "3  1210000  3102         4        3.0  Waterfront        2005  Excellent\n",
      "4   462000  1835         2        2.0       Urban        1982       Good\n"
     ]
    }
   ],
   "source": [
    "# -------------------------------------------------------------\n",
    "# Paso 2: Visualizar los datos crudos\n",
    "# -------------------------------------------------------------\n",
    "print(\"📥 Cargando el conjunto de datos...\")\n",
    "\n",
    "df = pd.read_csv(\"../datos/crudo/house_data.csv\") # Carga el conjunto de datos\n",
    "\n",
    "print(\"✅ Conjunto de datos cargado con éxito!\")\n",
    "print(\"Forma inicial de los datos:\", df.shape)\n",
    "print(\"\\n🔍 Vista previa de los datos:\")\n",
    "print(df.head()) # Muestra las primeras filas del conjunto de datos\n"
   ]
  },
  {
   "cell_type": "code",
   "execution_count": 6,
   "id": "c2b950e8",
   "metadata": {},
   "outputs": [
    {
     "name": "stdout",
     "output_type": "stream",
     "text": [
      "\n",
      "📊 Tipos de datos y verificación de valores nulos:\n",
      "<class 'pandas.core.frame.DataFrame'>\n",
      "RangeIndex: 84 entries, 0 to 83\n",
      "Data columns (total 7 columns):\n",
      " #   Column      Non-Null Count  Dtype  \n",
      "---  ------      --------------  -----  \n",
      " 0   price       84 non-null     int64  \n",
      " 1   sqft        84 non-null     int64  \n",
      " 2   bedrooms    84 non-null     int64  \n",
      " 3   bathrooms   84 non-null     float64\n",
      " 4   location    84 non-null     object \n",
      " 5   year_built  84 non-null     int64  \n",
      " 6   condition   84 non-null     object \n",
      "dtypes: float64(1), int64(4), object(2)\n",
      "memory usage: 4.7+ KB\n",
      "None\n",
      "\n",
      "❓ ¿Hay valores faltantes?\n",
      "price         0\n",
      "sqft          0\n",
      "bedrooms      0\n",
      "bathrooms     0\n",
      "location      0\n",
      "year_built    0\n",
      "condition     0\n",
      "dtype: int64\n"
     ]
    }
   ],
   "source": [
    "# -------------------------------------------------------------\n",
    "# Paso 3: Si hay null, etc, el ingeniero de datos debe de saber como sustituirlo\n",
    "# -------------------------------------------------------------\n",
    "print(\"\\n📊 Tipos de datos y verificación de valores nulos:\")\n",
    "print(df.info()) # Muestra información sobre el DataFrame, incluyendo tipos de datos y uso de memoria\n",
    "\n",
    "print(\"\\n❓ ¿Hay valores faltantes?\")\n",
    "print(df.isnull().sum()) # Verifica si hay valores nulos en cada columna\n"
   ]
  },
  {
   "cell_type": "code",
   "execution_count": null,
   "id": "07db6129",
   "metadata": {},
   "outputs": [],
   "source": [
    "# -------------------------------------------------------------\n",
    "# Paso 3: Si hay alguno mal formado se omite\n",
    "# -------------------------------------------------------------\n",
    "df = df.dropna()\n",
    "df = df[df['price'] > 10000]  # Elimina filas con precios no válidos, mayores a 10000\n",
    "df = df[df['sqft'] > 200]     # Elimina filas con sqft (pies cuadrados) no válidos, mayores a 200"
   ]
  },
  {
   "cell_type": "code",
   "execution_count": null,
   "id": "bdfc4ed3",
   "metadata": {},
   "outputs": [
    {
     "name": "stdout",
     "output_type": "stream",
     "text": [
      "\n",
      "🧹 Limpiando nombres de columnas (minúsculas, guiones bajos)...\n",
      "✅ Nombres de columnas estandarizados:\n",
      "['price', 'sqft', 'bedrooms', 'bathrooms', 'location', 'year_built', 'condition']\n"
     ]
    }
   ],
   "source": [
    "# -------------------------------------------------------------\n",
    "# Paso 4: Estandarizar nombres de columnas (limpieza básica)\n",
    "# Modificar nombres de columnas para que sean más legibles y equivalentes\n",
    "# -------------------------------------------------------------\n",
    "print(\"\\n🧹 Limpiando nombres de columnas (minúsculas, guiones bajos)...\")\n",
    "\n",
    "df.columns = df.columns.str.strip().str.lower().str.replace(\" \", \"_\")  # Estandariza los nombres de las columnas\n",
    "print(\"✅ Nombres de columnas estandarizados:\")\n",
    "print(df.columns.tolist())\n"
   ]
  },
  {
   "cell_type": "code",
   "execution_count": null,
   "id": "a68cd985",
   "metadata": {},
   "outputs": [
    {
     "name": "stdout",
     "output_type": "stream",
     "text": [
      "\n",
      "📈 Estadísticas resumidas básicas para columnas numéricas:\n",
      "              price         sqft   bedrooms  bathrooms   year_built\n",
      "count  8.400000e+01    84.000000  84.000000  84.000000    84.000000\n",
      "mean   6.285595e+05  2191.500000   2.857143   2.190476  1982.047619\n",
      "std    3.591678e+05   650.017117   0.852252   0.828356    19.501563\n",
      "min    2.490000e+05  1350.000000   2.000000   1.000000  1947.000000\n",
      "25%    3.742500e+05  1695.000000   2.000000   1.500000  1965.000000\n",
      "50%    5.110000e+05  1995.000000   3.000000   2.000000  1982.500000\n",
      "75%    7.292500e+05  2590.000000   3.000000   2.500000  1995.500000\n",
      "max    1.680000e+06  3850.000000   5.000000   4.500000  2019.000000\n"
     ]
    }
   ],
   "source": [
    "# -------------------------------------------------------------\n",
    "# Paso 5: Visualizar estadísticas básicas para detectar valores atípicos o problemas\n",
    "# -------------------------------------------------------------\n",
    "print(\"\\n📈 Estadísticas resumidas básicas para columnas numéricas:\")\n",
    "print(df.describe()) # Muestra estadísticas básicas como media, mediana, etc.\n"
   ]
  },
  {
   "cell_type": "code",
   "execution_count": 11,
   "id": "aad7fb79",
   "metadata": {},
   "outputs": [
    {
     "name": "stdout",
     "output_type": "stream",
     "text": [
      "\n",
      "📊 Distribución de precios de casas...\n"
     ]
    },
    {
     "data": {
      "image/png": "[encoded data removed]",
      "text/plain": [
       "<Figure size 800x500 with 1 Axes>"
      ]
     },
     "metadata": {},
     "output_type": "display_data"
    }
   ],
   "source": [
    "# -------------------------------------------------------------\n",
    "# Step 6: Visualización de distribuciones (por ejemplo, precio, sqft). El resultado vemos que hay casas menos caras que baratas\n",
    "# -------------------------------------------------------------\n",
    "print(\"\\n📊 Distribución de precios de casas...\")\n",
    "\n",
    "plt.figure(figsize=(8, 5))\n",
    "sns.histplot(df[\"price\"], kde=True, bins=10)\n",
    "plt.title(\"Distribución de Precios de Casas\")\n",
    "plt.xlabel(\"Precio\")\n",
    "plt.ylabel(\"Cantidad\")\n",
    "plt.show()\n"
   ]
  },
  {
   "cell_type": "code",
   "execution_count": 12,
   "id": "7e596b70",
   "metadata": {},
   "outputs": [
    {
     "name": "stdout",
     "output_type": "stream",
     "text": [
      "\n",
      "🔍 Mirando valores negativos o poco realistas...\n",
      "✅ No se encontraron valores negativos en price.\n",
      "✅ No se encontraron valores negativos en sqft.\n",
      "✅ No se encontraron valores negativos en bedrooms.\n",
      "✅ No se encontraron valores negativos en bathrooms.\n",
      "✅ No se encontraron valores negativos en year_built.\n"
     ]
    }
   ],
   "source": [
    "# -------------------------------------------------------------\n",
    "# Step 7: Visualizar problemas obvios en los datos, como los valores negativos\n",
    "# -------------------------------------------------------------\n",
    "print(\"\\n🔍 Mirando valores negativos o poco realistas...\")\n",
    "\n",
    "for col in ['price', 'sqft', 'bedrooms', 'bathrooms', 'year_built']:\n",
    "    invalid = df[df[col] < 0]\n",
    "    if not invalid.empty:\n",
    "        print(f\"⚠️ Se encontraron valores negativos en {col}:\\n{invalid}\")\n",
    "    else:\n",
    "        print(f\"✅ No se encontraron valores negativos en {col}.\")\n"
   ]
  },
  {
   "cell_type": "code",
   "execution_count": 13,
   "id": "539e313e",
   "metadata": {},
   "outputs": [
    {
     "name": "stdout",
     "output_type": "stream",
     "text": [
      "\n",
      "🧹 Mirando filas duplicadas...\n",
      "✅ No se encontraron filas duplicadas.\n"
     ]
    }
   ],
   "source": [
    "# -------------------------------------------------------------\n",
    "# Step 8: Si hay duplicados, se eliminan\n",
    "# -------------------------------------------------------------\n",
    "print(\"\\n🧹 Mirando filas duplicadas...\")\n",
    "\n",
    "duplicates = df.duplicated().sum()\n",
    "if duplicates > 0:\n",
    "    print(f\"⚠️ Se encontraron {duplicates} filas duplicadas. Eliminándolas...\")\n",
    "    df = df.drop_duplicates()\n",
    "else:\n",
    "    print(\"✅ No se encontraron filas duplicadas.\")\n"
   ]
  },
  {
   "cell_type": "code",
   "execution_count": 17,
   "id": "f2ba22c2",
   "metadata": {},
   "outputs": [
    {
     "name": "stdout",
     "output_type": "stream",
     "text": [
      "\n",
      "💾 Guardando versión limpia en archivo intermedio (paso opcional)...\n",
      "✅ Preprocesamiento de ingeniería de datos completo!\n"
     ]
    }
   ],
   "source": [
    "# -------------------------------------------------------------\n",
    "# Step 9: Si se desea, se puede guardar la versión limpia en un archivo\n",
    "# -------------------------------------------------------------\n",
    "print(\"\\n💾 Guardando versión limpia en archivo intermedio (paso opcional)...\")\n",
    "\n",
    "# Descomentar si se desea guardar en este punto\n",
    "df.to_csv(\"../datos/crudo/cleaned_house_data.csv\", index=False)\n",
    "print(\"✅ Preprocesamiento de ingeniería de datos completo!\")\n"
   ]
  },
  {
   "cell_type": "code",
   "execution_count": null,
   "id": "05c1287b-cddf-4863-a214-9b3074cdd4d1",
   "metadata": {},
   "outputs": [],
   "source": [
    "# Sucesión de pasos para la ingeniería de datos, se pueden realizar mas pasos según sea necesario"
   ]
  },
  {
   "cell_type": "code",
   "execution_count": 1,
   "id": "cf0b57df",
   "metadata": {
    "vscode": {
     "languageId": "powershell"
    }
   },
   "outputs": [
    {
     "data": {
      "text/plain": [
       "'/Users/carloscg00/Desktop/mlops-app-house-price/cuarderno'"
      ]
     },
     "execution_count": 1,
     "metadata": {},
     "output_type": "execute_result"
    }
   ],
   "source": [
    "pwd"
   ]
  }
 ],
 "metadata": {
  "kernelspec": {
   "display_name": "mlops-app-house-price (3.11.13)",
   "language": "python",
   "name": "python3"
  },
  "language_info": {
   "codemirror_mode": {
    "name": "ipython",
    "version": 3
   },
   "file_extension": ".py",
   "mimetype": "text/x-python",
   "name": "python",
   "nbconvert_exporter": "python",
   "pygments_lexer": "ipython3",
   "version": "3.11.13"
  }
 },
 "nbformat": 4,
 "nbformat_minor": 5
}
